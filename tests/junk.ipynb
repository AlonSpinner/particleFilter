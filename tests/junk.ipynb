{
 "cells": [
  {
   "cell_type": "code",
   "execution_count": 1,
   "metadata": {},
   "outputs": [
    {
     "name": "stdout",
     "output_type": "stream",
     "text": [
      "Jupyter environment detected. Enabling Open3D WebVisualizer.\n",
      "[Open3D INFO] WebRTC GUI backend enabled.\n",
      "[Open3D INFO] WebRTCWindowSystem: HTTP handshake server disabled.\n"
     ]
    }
   ],
   "source": [
    "import open3d as o3d\n",
    "\n"
   ]
  },
  {
   "cell_type": "code",
   "execution_count": 20,
   "metadata": {},
   "outputs": [],
   "source": [
    "cube = o3d.geometry.TriangleMesh.create_box().translate([0, 0, 0])\n",
    "cube = o3d.t.geometry.TriangleMesh.from_legacy(cube)\n",
    "\n",
    "scene = o3d.t.geometry.RaycastingScene()\n",
    "cube_id = scene.add_triangles(cube)\n"
   ]
  },
  {
   "cell_type": "code",
   "execution_count": 25,
   "metadata": {},
   "outputs": [
    {
     "data": {
      "text/plain": [
       "open3d.cuda.pybind.t.geometry.RaycastingScene"
      ]
     },
     "execution_count": 25,
     "metadata": {},
     "output_type": "execute_result"
    }
   ],
   "source": [
    "type(scene)"
   ]
  },
  {
   "cell_type": "code",
   "execution_count": 22,
   "metadata": {},
   "outputs": [],
   "source": [
    "# We create two rays:\n",
    "# The first ray starts at (0.5,0.5,10) and has direction (0,0,-1).\n",
    "# The second ray start at (-1,-1,-1) and has direction (0,0,-1).\n",
    "rays = o3d.core.Tensor([[0.5, 0.5, 10, 0, 0, -1], [-1, -1, -1, 0, 0, -1]],\n",
    "                       dtype=o3d.core.Dtype.Float32)\n",
    "\n",
    "ans = scene.cast_rays(rays)"
   ]
  },
  {
   "cell_type": "code",
   "execution_count": 24,
   "metadata": {},
   "outputs": [
    {
     "name": "stdout",
     "output_type": "stream",
     "text": [
      "[8.999999      inf] [         0 4294967295]\n"
     ]
    }
   ],
   "source": [
    "print(ans['t_hit'].numpy(), ans['geometry_ids'].numpy())"
   ]
  },
  {
   "cell_type": "code",
   "execution_count": 1,
   "metadata": {},
   "outputs": [
    {
     "data": {
      "text/plain": [
       "array([[ 6.123234e-17, -1.000000e+00,  0.000000e+00,  5.000000e+00],\n",
       "       [ 1.000000e+00,  6.123234e-17,  0.000000e+00,  2.000000e+00],\n",
       "       [ 0.000000e+00,  0.000000e+00,  1.000000e+00,  0.000000e+00],\n",
       "       [ 0.000000e+00,  0.000000e+00,  0.000000e+00,  1.000000e+00]])"
      ]
     },
     "execution_count": 1,
     "metadata": {},
     "output_type": "execute_result"
    }
   ],
   "source": [
    "from particleFilter.geometry import pose2\n",
    "import numpy as np\n",
    "x = pose2(5,2,np.pi/2)\n",
    "x.T3d()"
   ]
  }
 ],
 "metadata": {
  "interpreter": {
   "hash": "52f3055c5d26ce92b644954c7007470476d598760c74a4ecb41cdaaa2fe25119"
  },
  "kernelspec": {
   "display_name": "Python 3.9.12 ('ifcLocal')",
   "language": "python",
   "name": "python3"
  },
  "language_info": {
   "codemirror_mode": {
    "name": "ipython",
    "version": 3
   },
   "file_extension": ".py",
   "mimetype": "text/x-python",
   "name": "python",
   "nbconvert_exporter": "python",
   "pygments_lexer": "ipython3",
   "version": "3.9.12"
  },
  "orig_nbformat": 4
 },
 "nbformat": 4,
 "nbformat_minor": 2
}
